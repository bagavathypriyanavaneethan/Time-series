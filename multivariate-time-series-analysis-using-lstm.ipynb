{
 "cells": [
  {
   "cell_type": "markdown",
   "metadata": {
    "papermill": {
     "duration": 0.023165,
     "end_time": "2021-02-05T10:57:14.857562",
     "exception": false,
     "start_time": "2021-02-05T10:57:14.834397",
     "status": "completed"
    },
    "tags": []
   },
   "source": [
    "# Multi variate time series modelling using LSTM"
   ]
  },
  {
   "cell_type": "code",
   "execution_count": 1,
   "metadata": {
    "_cell_guid": "b1076dfc-b9ad-4769-8c92-a6c4dae69d19",
    "_uuid": "8f2839f25d086af736a60e9eeb907d3b93b6e0e5",
    "execution": {
     "iopub.execute_input": "2021-02-05T10:57:14.907966Z",
     "iopub.status.busy": "2021-02-05T10:57:14.907078Z",
     "iopub.status.idle": "2021-02-05T10:57:14.909225Z",
     "shell.execute_reply": "2021-02-05T10:57:14.909607Z"
    },
    "papermill": {
     "duration": 0.030151,
     "end_time": "2021-02-05T10:57:14.909849",
     "exception": false,
     "start_time": "2021-02-05T10:57:14.879698",
     "status": "completed"
    },
    "tags": []
   },
   "outputs": [],
   "source": [
    "# This Python 3 environment comes with many helpful analytics libraries installed\n",
    "# It is defined by the kaggle/python Docker image: https://github.com/kaggle/docker-python\n",
    "# For example, here's several helpful packages to load\n",
    "\n",
    "import numpy as np # linear algebra\n",
    "import pandas as pd # data processing, CSV file I/O (e.g. pd.read_csv)\n",
    "\n",
    "# Input data files are available in the read-only \"../input/\" directory\n",
    "# For example, running this (by clicking run or pressing Shift+Enter) will list all files under the input directory\n",
    "\n",
    "import os\n",
    "for dirname, _, filenames in os.walk('/kaggle/input'):\n",
    "    for filename in filenames:\n",
    "        print(os.path.join(dirname, filename))\n",
    "\n",
    "# You can write up to 20GB to the current directory (/kaggle/working/) that gets preserved as output when you create a version using \"Save & Run All\" \n",
    "# You can also write temporary files to /kaggle/temp/, but they won't be saved outside of the current session"
   ]
  },
  {
   "cell_type": "code",
   "execution_count": 2,
   "metadata": {
    "execution": {
     "iopub.execute_input": "2021-02-05T10:57:14.959197Z",
     "iopub.status.busy": "2021-02-05T10:57:14.958695Z",
     "iopub.status.idle": "2021-02-05T10:57:21.142363Z",
     "shell.execute_reply": "2021-02-05T10:57:21.141345Z"
    },
    "papermill": {
     "duration": 6.210013,
     "end_time": "2021-02-05T10:57:21.142500",
     "exception": false,
     "start_time": "2021-02-05T10:57:14.932487",
     "status": "completed"
    },
    "tags": []
   },
   "outputs": [],
   "source": [
    "import tensorflow as tf \n",
    "import matplotlib as mpl\n",
    "import matplotlib.pyplot as plt\n",
    "\n",
    "from sklearn.model_selection import train_test_split\n",
    "from keras.preprocessing.sequence import TimeseriesGenerator\n",
    "from sklearn.preprocessing import MinMaxScaler,StandardScaler"
   ]
  },
  {
   "cell_type": "code",
   "execution_count": 3,
   "metadata": {
    "execution": {
     "iopub.execute_input": "2021-02-05T10:57:21.192947Z",
     "iopub.status.busy": "2021-02-05T10:57:21.192268Z",
     "iopub.status.idle": "2021-02-05T10:57:21.195163Z",
     "shell.execute_reply": "2021-02-05T10:57:21.194756Z"
    },
    "papermill": {
     "duration": 0.028567,
     "end_time": "2021-02-05T10:57:21.195271",
     "exception": false,
     "start_time": "2021-02-05T10:57:21.166704",
     "status": "completed"
    },
    "tags": []
   },
   "outputs": [],
   "source": [
    "mpl.rcParams['figure.figsize'] = (10, 8)\n",
    "mpl.rcParams['axes.grid'] = False"
   ]
  },
  {
   "cell_type": "code",
   "execution_count": 4,
   "metadata": {
    "execution": {
     "iopub.execute_input": "2021-02-05T10:57:21.244605Z",
     "iopub.status.busy": "2021-02-05T10:57:21.244113Z",
     "iopub.status.idle": "2021-02-05T10:57:23.763071Z",
     "shell.execute_reply": "2021-02-05T10:57:23.762551Z"
    },
    "papermill": {
     "duration": 2.545711,
     "end_time": "2021-02-05T10:57:23.763194",
     "exception": false,
     "start_time": "2021-02-05T10:57:21.217483",
     "status": "completed"
    },
    "tags": []
   },
   "outputs": [],
   "source": [
    "df=pd.read_csv(\"https://archive.ics.uci.edu/ml/machine-learning-databases/00374/energydata_complete.csv\")"
   ]
  },
  {
   "cell_type": "code",
   "execution_count": 5,
   "metadata": {
    "execution": {
     "iopub.execute_input": "2021-02-05T10:57:23.832961Z",
     "iopub.status.busy": "2021-02-05T10:57:23.832318Z",
     "iopub.status.idle": "2021-02-05T10:57:23.847424Z",
     "shell.execute_reply": "2021-02-05T10:57:23.847831Z"
    },
    "papermill": {
     "duration": 0.06198,
     "end_time": "2021-02-05T10:57:23.847952",
     "exception": false,
     "start_time": "2021-02-05T10:57:23.785972",
     "status": "completed"
    },
    "tags": []
   },
   "outputs": [
    {
     "data": {
      "text/html": [
       "<div>\n",
       "<style scoped>\n",
       "    .dataframe tbody tr th:only-of-type {\n",
       "        vertical-align: middle;\n",
       "    }\n",
       "\n",
       "    .dataframe tbody tr th {\n",
       "        vertical-align: top;\n",
       "    }\n",
       "\n",
       "    .dataframe thead th {\n",
       "        text-align: right;\n",
       "    }\n",
       "</style>\n",
       "<table border=\"1\" class=\"dataframe\">\n",
       "  <thead>\n",
       "    <tr style=\"text-align: right;\">\n",
       "      <th></th>\n",
       "      <th>date</th>\n",
       "      <th>Appliances</th>\n",
       "      <th>lights</th>\n",
       "      <th>T1</th>\n",
       "      <th>RH_1</th>\n",
       "      <th>T2</th>\n",
       "      <th>RH_2</th>\n",
       "      <th>T3</th>\n",
       "      <th>RH_3</th>\n",
       "      <th>T4</th>\n",
       "      <th>...</th>\n",
       "      <th>T9</th>\n",
       "      <th>RH_9</th>\n",
       "      <th>T_out</th>\n",
       "      <th>Press_mm_hg</th>\n",
       "      <th>RH_out</th>\n",
       "      <th>Windspeed</th>\n",
       "      <th>Visibility</th>\n",
       "      <th>Tdewpoint</th>\n",
       "      <th>rv1</th>\n",
       "      <th>rv2</th>\n",
       "    </tr>\n",
       "  </thead>\n",
       "  <tbody>\n",
       "    <tr>\n",
       "      <th>0</th>\n",
       "      <td>2016-01-11 17:00:00</td>\n",
       "      <td>60</td>\n",
       "      <td>30</td>\n",
       "      <td>19.89</td>\n",
       "      <td>47.596667</td>\n",
       "      <td>19.2</td>\n",
       "      <td>44.790000</td>\n",
       "      <td>19.79</td>\n",
       "      <td>44.730000</td>\n",
       "      <td>19.000000</td>\n",
       "      <td>...</td>\n",
       "      <td>17.033333</td>\n",
       "      <td>45.53</td>\n",
       "      <td>6.600000</td>\n",
       "      <td>733.5</td>\n",
       "      <td>92.0</td>\n",
       "      <td>7.000000</td>\n",
       "      <td>63.000000</td>\n",
       "      <td>5.3</td>\n",
       "      <td>13.275433</td>\n",
       "      <td>13.275433</td>\n",
       "    </tr>\n",
       "    <tr>\n",
       "      <th>1</th>\n",
       "      <td>2016-01-11 17:10:00</td>\n",
       "      <td>60</td>\n",
       "      <td>30</td>\n",
       "      <td>19.89</td>\n",
       "      <td>46.693333</td>\n",
       "      <td>19.2</td>\n",
       "      <td>44.722500</td>\n",
       "      <td>19.79</td>\n",
       "      <td>44.790000</td>\n",
       "      <td>19.000000</td>\n",
       "      <td>...</td>\n",
       "      <td>17.066667</td>\n",
       "      <td>45.56</td>\n",
       "      <td>6.483333</td>\n",
       "      <td>733.6</td>\n",
       "      <td>92.0</td>\n",
       "      <td>6.666667</td>\n",
       "      <td>59.166667</td>\n",
       "      <td>5.2</td>\n",
       "      <td>18.606195</td>\n",
       "      <td>18.606195</td>\n",
       "    </tr>\n",
       "    <tr>\n",
       "      <th>2</th>\n",
       "      <td>2016-01-11 17:20:00</td>\n",
       "      <td>50</td>\n",
       "      <td>30</td>\n",
       "      <td>19.89</td>\n",
       "      <td>46.300000</td>\n",
       "      <td>19.2</td>\n",
       "      <td>44.626667</td>\n",
       "      <td>19.79</td>\n",
       "      <td>44.933333</td>\n",
       "      <td>18.926667</td>\n",
       "      <td>...</td>\n",
       "      <td>17.000000</td>\n",
       "      <td>45.50</td>\n",
       "      <td>6.366667</td>\n",
       "      <td>733.7</td>\n",
       "      <td>92.0</td>\n",
       "      <td>6.333333</td>\n",
       "      <td>55.333333</td>\n",
       "      <td>5.1</td>\n",
       "      <td>28.642668</td>\n",
       "      <td>28.642668</td>\n",
       "    </tr>\n",
       "    <tr>\n",
       "      <th>3</th>\n",
       "      <td>2016-01-11 17:30:00</td>\n",
       "      <td>50</td>\n",
       "      <td>40</td>\n",
       "      <td>19.89</td>\n",
       "      <td>46.066667</td>\n",
       "      <td>19.2</td>\n",
       "      <td>44.590000</td>\n",
       "      <td>19.79</td>\n",
       "      <td>45.000000</td>\n",
       "      <td>18.890000</td>\n",
       "      <td>...</td>\n",
       "      <td>17.000000</td>\n",
       "      <td>45.40</td>\n",
       "      <td>6.250000</td>\n",
       "      <td>733.8</td>\n",
       "      <td>92.0</td>\n",
       "      <td>6.000000</td>\n",
       "      <td>51.500000</td>\n",
       "      <td>5.0</td>\n",
       "      <td>45.410389</td>\n",
       "      <td>45.410389</td>\n",
       "    </tr>\n",
       "    <tr>\n",
       "      <th>4</th>\n",
       "      <td>2016-01-11 17:40:00</td>\n",
       "      <td>60</td>\n",
       "      <td>40</td>\n",
       "      <td>19.89</td>\n",
       "      <td>46.333333</td>\n",
       "      <td>19.2</td>\n",
       "      <td>44.530000</td>\n",
       "      <td>19.79</td>\n",
       "      <td>45.000000</td>\n",
       "      <td>18.890000</td>\n",
       "      <td>...</td>\n",
       "      <td>17.000000</td>\n",
       "      <td>45.40</td>\n",
       "      <td>6.133333</td>\n",
       "      <td>733.9</td>\n",
       "      <td>92.0</td>\n",
       "      <td>5.666667</td>\n",
       "      <td>47.666667</td>\n",
       "      <td>4.9</td>\n",
       "      <td>10.084097</td>\n",
       "      <td>10.084097</td>\n",
       "    </tr>\n",
       "  </tbody>\n",
       "</table>\n",
       "<p>5 rows × 29 columns</p>\n",
       "</div>"
      ],
      "text/plain": [
       "                  date  Appliances  lights     T1       RH_1    T2       RH_2  \\\n",
       "0  2016-01-11 17:00:00          60      30  19.89  47.596667  19.2  44.790000   \n",
       "1  2016-01-11 17:10:00          60      30  19.89  46.693333  19.2  44.722500   \n",
       "2  2016-01-11 17:20:00          50      30  19.89  46.300000  19.2  44.626667   \n",
       "3  2016-01-11 17:30:00          50      40  19.89  46.066667  19.2  44.590000   \n",
       "4  2016-01-11 17:40:00          60      40  19.89  46.333333  19.2  44.530000   \n",
       "\n",
       "      T3       RH_3         T4  ...         T9   RH_9     T_out  Press_mm_hg  \\\n",
       "0  19.79  44.730000  19.000000  ...  17.033333  45.53  6.600000        733.5   \n",
       "1  19.79  44.790000  19.000000  ...  17.066667  45.56  6.483333        733.6   \n",
       "2  19.79  44.933333  18.926667  ...  17.000000  45.50  6.366667        733.7   \n",
       "3  19.79  45.000000  18.890000  ...  17.000000  45.40  6.250000        733.8   \n",
       "4  19.79  45.000000  18.890000  ...  17.000000  45.40  6.133333        733.9   \n",
       "\n",
       "   RH_out  Windspeed  Visibility  Tdewpoint        rv1        rv2  \n",
       "0    92.0   7.000000   63.000000        5.3  13.275433  13.275433  \n",
       "1    92.0   6.666667   59.166667        5.2  18.606195  18.606195  \n",
       "2    92.0   6.333333   55.333333        5.1  28.642668  28.642668  \n",
       "3    92.0   6.000000   51.500000        5.0  45.410389  45.410389  \n",
       "4    92.0   5.666667   47.666667        4.9  10.084097  10.084097  \n",
       "\n",
       "[5 rows x 29 columns]"
      ]
     },
     "execution_count": 5,
     "metadata": {},
     "output_type": "execute_result"
    }
   ],
   "source": [
    "df.head()"
   ]
  },
  {
   "cell_type": "markdown",
   "metadata": {
    "papermill": {
     "duration": 0.023804,
     "end_time": "2021-02-05T10:57:23.894961",
     "exception": false,
     "start_time": "2021-02-05T10:57:23.871157",
     "status": "completed"
    },
    "tags": []
   },
   "source": [
    "Attribute Information:\n",
    "\n",
    "date time year-month-day hour:minute:second\n",
    "Appliances, energy use in Wh\n",
    "lights, energy use of light fixtures in the house in Wh\n",
    "T1, Temperature in kitchen area, in Celsius\n",
    "RH_1, Humidity in kitchen area, in %\n",
    "T2, Temperature in living room area, in Celsius\n",
    "RH_2, Humidity in living room area, in %\n",
    "T3, Temperature in laundry room area\n",
    "RH_3, Humidity in laundry room area, in %\n",
    "T4, Temperature in office room, in Celsius\n",
    "RH_4, Humidity in office room, in %\n",
    "T5, Temperature in bathroom, in Celsius\n",
    "RH_5, Humidity in bathroom, in %\n",
    "T6, Temperature outside the building (north side), in Celsius\n",
    "RH_6, Humidity outside the building (north side), in %\n",
    "T7, Temperature in ironing room , in Celsius\n",
    "RH_7, Humidity in ironing room, in %\n",
    "T8, Temperature in teenager room 2, in Celsius\n",
    "RH_8, Humidity in teenager room 2, in %\n",
    "T9, Temperature in parents room, in Celsius\n",
    "RH_9, Humidity in parents room, in %\n",
    "To, Temperature outside (from Chievres weather station), in Celsius\n",
    "Pressure (from Chievres weather station), in mm Hg\n",
    "RH_out, Humidity outside (from Chievres weather station), in %\n",
    "Wind speed (from Chievres weather station), in m/s\n",
    "Visibility (from Chievres weather station), in km\n",
    "Tdewpoint (from Chievres weather station), Â°C\n",
    "rv1, Random variable 1, nondimensional\n",
    "rv2, Random variable 2, nondimensional"
   ]
  },
  {
   "cell_type": "code",
   "execution_count": 6,
   "metadata": {
    "execution": {
     "iopub.execute_input": "2021-02-05T10:57:23.959531Z",
     "iopub.status.busy": "2021-02-05T10:57:23.958884Z",
     "iopub.status.idle": "2021-02-05T10:57:23.961785Z",
     "shell.execute_reply": "2021-02-05T10:57:23.961261Z"
    },
    "papermill": {
     "duration": 0.043409,
     "end_time": "2021-02-05T10:57:23.961890",
     "exception": false,
     "start_time": "2021-02-05T10:57:23.918481",
     "status": "completed"
    },
    "tags": []
   },
   "outputs": [],
   "source": [
    "df['date'] = pd.to_datetime(df['date'], infer_datetime_format=True)"
   ]
  },
  {
   "cell_type": "code",
   "execution_count": 7,
   "metadata": {
    "execution": {
     "iopub.execute_input": "2021-02-05T10:57:24.013778Z",
     "iopub.status.busy": "2021-02-05T10:57:24.012998Z",
     "iopub.status.idle": "2021-02-05T10:57:25.923232Z",
     "shell.execute_reply": "2021-02-05T10:57:25.923630Z"
    },
    "papermill": {
     "duration": 1.93837,
     "end_time": "2021-02-05T10:57:25.923792",
     "exception": false,
     "start_time": "2021-02-05T10:57:23.985422",
     "status": "completed"
    },
    "tags": []
   },
   "outputs": [
    {
     "data": {
      "text/plain": [
       "array([<AxesSubplot:xlabel='date'>, <AxesSubplot:xlabel='date'>,\n",
       "       <AxesSubplot:xlabel='date'>, <AxesSubplot:xlabel='date'>,\n",
       "       <AxesSubplot:xlabel='date'>], dtype=object)"
      ]
     },
     "execution_count": 7,
     "metadata": {},
     "output_type": "execute_result"
    },
    {
     "data": {
      "image/png": "[encoded data removed]",
      "text/plain": [
       "<Figure size 720x576 with 5 Axes>"
      ]
     },
     "metadata": {
      "needs_background": "light"
     },
     "output_type": "display_data"
    }
   ],
   "source": [
    "df.set_index('date')[['Appliances', 'lights','T_out', 'RH_1', 'Visibility']].plot(subplots=True)"
   ]
  },
  {
   "cell_type": "code",
   "execution_count": 8,
   "metadata": {
    "execution": {
     "iopub.execute_input": "2021-02-05T10:57:25.981605Z",
     "iopub.status.busy": "2021-02-05T10:57:25.980928Z",
     "iopub.status.idle": "2021-02-05T10:57:25.983798Z",
     "shell.execute_reply": "2021-02-05T10:57:25.983339Z"
    },
    "papermill": {
     "duration": 0.033513,
     "end_time": "2021-02-05T10:57:25.983899",
     "exception": false,
     "start_time": "2021-02-05T10:57:25.950386",
     "status": "completed"
    },
    "tags": []
   },
   "outputs": [],
   "source": [
    "df_input=df[['Appliances','T_out', 'RH_1', 'Visibility']]"
   ]
  },
  {
   "cell_type": "markdown",
   "metadata": {
    "papermill": {
     "duration": 0.025952,
     "end_time": "2021-02-05T10:57:26.036037",
     "exception": false,
     "start_time": "2021-02-05T10:57:26.010085",
     "status": "completed"
    },
    "tags": []
   },
   "source": [
    "# Scaling"
   ]
  },
  {
   "cell_type": "code",
   "execution_count": 9,
   "metadata": {
    "execution": {
     "iopub.execute_input": "2021-02-05T10:57:26.093771Z",
     "iopub.status.busy": "2021-02-05T10:57:26.092985Z",
     "iopub.status.idle": "2021-02-05T10:57:26.098862Z",
     "shell.execute_reply": "2021-02-05T10:57:26.098306Z"
    },
    "papermill": {
     "duration": 0.036683,
     "end_time": "2021-02-05T10:57:26.098970",
     "exception": false,
     "start_time": "2021-02-05T10:57:26.062287",
     "status": "completed"
    },
    "tags": []
   },
   "outputs": [],
   "source": [
    "scaler = MinMaxScaler()\n",
    "data_scaled=scaler.fit_transform(df_input)"
   ]
  },
  {
   "cell_type": "code",
   "execution_count": 10,
   "metadata": {
    "execution": {
     "iopub.execute_input": "2021-02-05T10:57:26.156520Z",
     "iopub.status.busy": "2021-02-05T10:57:26.155682Z",
     "iopub.status.idle": "2021-02-05T10:57:26.159232Z",
     "shell.execute_reply": "2021-02-05T10:57:26.159765Z"
    },
    "papermill": {
     "duration": 0.03461,
     "end_time": "2021-02-05T10:57:26.159888",
     "exception": false,
     "start_time": "2021-02-05T10:57:26.125278",
     "status": "completed"
    },
    "tags": []
   },
   "outputs": [
    {
     "data": {
      "text/plain": [
       "array([[0.04672897, 0.37299035, 0.56618659, 0.95384615],\n",
       "       [0.04672897, 0.36923901, 0.54132648, 0.89487179],\n",
       "       [0.03738318, 0.36548767, 0.53050179, 0.83589744],\n",
       "       ...,\n",
       "       [0.24299065, 0.88317256, 0.53866618, 0.37435897],\n",
       "       [0.38317757, 0.87888532, 0.54949087, 0.38717949],\n",
       "       [0.39252336, 0.87459807, 0.53875791, 0.4       ]])"
      ]
     },
     "execution_count": 10,
     "metadata": {},
     "output_type": "execute_result"
    }
   ],
   "source": [
    "data_scaled"
   ]
  },
  {
   "cell_type": "code",
   "execution_count": 11,
   "metadata": {
    "execution": {
     "iopub.execute_input": "2021-02-05T10:57:26.218583Z",
     "iopub.status.busy": "2021-02-05T10:57:26.217992Z",
     "iopub.status.idle": "2021-02-05T10:57:26.220799Z",
     "shell.execute_reply": "2021-02-05T10:57:26.220285Z"
    },
    "papermill": {
     "duration": 0.033594,
     "end_time": "2021-02-05T10:57:26.220908",
     "exception": false,
     "start_time": "2021-02-05T10:57:26.187314",
     "status": "completed"
    },
    "tags": []
   },
   "outputs": [],
   "source": [
    "features = data_scaled\n",
    "target = data_scaled[:,0]"
   ]
  },
  {
   "cell_type": "code",
   "execution_count": 12,
   "metadata": {
    "execution": {
     "iopub.execute_input": "2021-02-05T10:57:26.278538Z",
     "iopub.status.busy": "2021-02-05T10:57:26.277768Z",
     "iopub.status.idle": "2021-02-05T10:57:26.282227Z",
     "shell.execute_reply": "2021-02-05T10:57:26.282765Z"
    },
    "papermill": {
     "duration": 0.03537,
     "end_time": "2021-02-05T10:57:26.282893",
     "exception": false,
     "start_time": "2021-02-05T10:57:26.247523",
     "status": "completed"
    },
    "tags": []
   },
   "outputs": [
    {
     "data": {
      "text/plain": [
       "(array([[[0.04672897, 0.37299035, 0.56618659, 0.95384615],\n",
       "         [0.04672897, 0.36923901, 0.54132648, 0.89487179]]]),\n",
       " array([0.03738318]))"
      ]
     },
     "execution_count": 12,
     "metadata": {},
     "output_type": "execute_result"
    }
   ],
   "source": [
    "TimeseriesGenerator(features,target,length=2,sampling_rate=1,batch_size=1)[0]"
   ]
  },
  {
   "cell_type": "markdown",
   "metadata": {
    "papermill": {
     "duration": 0.026853,
     "end_time": "2021-02-05T10:57:26.337031",
     "exception": false,
     "start_time": "2021-02-05T10:57:26.310178",
     "status": "completed"
    },
    "tags": []
   },
   "source": [
    "# Train test split"
   ]
  },
  {
   "cell_type": "code",
   "execution_count": 13,
   "metadata": {
    "execution": {
     "iopub.execute_input": "2021-02-05T10:57:26.395414Z",
     "iopub.status.busy": "2021-02-05T10:57:26.394618Z",
     "iopub.status.idle": "2021-02-05T10:57:26.398533Z",
     "shell.execute_reply": "2021-02-05T10:57:26.397987Z"
    },
    "papermill": {
     "duration": 0.034505,
     "end_time": "2021-02-05T10:57:26.398633",
     "exception": false,
     "start_time": "2021-02-05T10:57:26.364128",
     "status": "completed"
    },
    "tags": []
   },
   "outputs": [],
   "source": [
    "xtrain,xtest,ytrain,ytest=train_test_split(features,target,test_size=0.20,random_state=123,shuffle=False)"
   ]
  },
  {
   "cell_type": "markdown",
   "metadata": {
    "papermill": {
     "duration": 0.027057,
     "end_time": "2021-02-05T10:57:26.452768",
     "exception": false,
     "start_time": "2021-02-05T10:57:26.425711",
     "status": "completed"
    },
    "tags": []
   },
   "source": [
    "**shuffle=False is an important parameter while doing time series. As the values do not shuffle during the training process for sequence modelling.**"
   ]
  },
  {
   "cell_type": "code",
   "execution_count": 14,
   "metadata": {
    "execution": {
     "iopub.execute_input": "2021-02-05T10:57:26.510917Z",
     "iopub.status.busy": "2021-02-05T10:57:26.510091Z",
     "iopub.status.idle": "2021-02-05T10:57:26.513942Z",
     "shell.execute_reply": "2021-02-05T10:57:26.513531Z"
    },
    "papermill": {
     "duration": 0.034246,
     "end_time": "2021-02-05T10:57:26.514045",
     "exception": false,
     "start_time": "2021-02-05T10:57:26.479799",
     "status": "completed"
    },
    "tags": []
   },
   "outputs": [
    {
     "data": {
      "text/plain": [
       "(15788, 4)"
      ]
     },
     "execution_count": 14,
     "metadata": {},
     "output_type": "execute_result"
    }
   ],
   "source": [
    "xtrain.shape"
   ]
  },
  {
   "cell_type": "code",
   "execution_count": 15,
   "metadata": {
    "execution": {
     "iopub.execute_input": "2021-02-05T10:57:26.573037Z",
     "iopub.status.busy": "2021-02-05T10:57:26.572320Z",
     "iopub.status.idle": "2021-02-05T10:57:26.575307Z",
     "shell.execute_reply": "2021-02-05T10:57:26.575767Z"
    },
    "papermill": {
     "duration": 0.034378,
     "end_time": "2021-02-05T10:57:26.575880",
     "exception": false,
     "start_time": "2021-02-05T10:57:26.541502",
     "status": "completed"
    },
    "tags": []
   },
   "outputs": [
    {
     "data": {
      "text/plain": [
       "(3947, 4)"
      ]
     },
     "execution_count": 15,
     "metadata": {},
     "output_type": "execute_result"
    }
   ],
   "source": [
    "xtest.shape"
   ]
  },
  {
   "cell_type": "code",
   "execution_count": 16,
   "metadata": {
    "execution": {
     "iopub.execute_input": "2021-02-05T10:57:26.635296Z",
     "iopub.status.busy": "2021-02-05T10:57:26.634518Z",
     "iopub.status.idle": "2021-02-05T10:57:26.638565Z",
     "shell.execute_reply": "2021-02-05T10:57:26.638150Z"
    },
    "papermill": {
     "duration": 0.034972,
     "end_time": "2021-02-05T10:57:26.638685",
     "exception": false,
     "start_time": "2021-02-05T10:57:26.603713",
     "status": "completed"
    },
    "tags": []
   },
   "outputs": [
    {
     "data": {
      "text/plain": [
       "(15788,)"
      ]
     },
     "execution_count": 16,
     "metadata": {},
     "output_type": "execute_result"
    }
   ],
   "source": [
    "ytrain.shape"
   ]
  },
  {
   "cell_type": "code",
   "execution_count": 17,
   "metadata": {
    "execution": {
     "iopub.execute_input": "2021-02-05T10:57:26.699933Z",
     "iopub.status.busy": "2021-02-05T10:57:26.699210Z",
     "iopub.status.idle": "2021-02-05T10:57:26.701950Z",
     "shell.execute_reply": "2021-02-05T10:57:26.701536Z"
    },
    "papermill": {
     "duration": 0.035104,
     "end_time": "2021-02-05T10:57:26.702054",
     "exception": false,
     "start_time": "2021-02-05T10:57:26.666950",
     "status": "completed"
    },
    "tags": []
   },
   "outputs": [],
   "source": [
    "win_length=720\n",
    "batch_size=32\n",
    "num_features=4\n",
    "train_generator = TimeseriesGenerator(xtrain, ytrain, length=win_length, sampling_rate=1, batch_size=batch_size)\n",
    "test_generator = TimeseriesGenerator(xtest, ytest, length=win_length, sampling_rate=1, batch_size=batch_size)"
   ]
  },
  {
   "cell_type": "code",
   "execution_count": 18,
   "metadata": {
    "execution": {
     "iopub.execute_input": "2021-02-05T10:57:26.762450Z",
     "iopub.status.busy": "2021-02-05T10:57:26.761704Z",
     "iopub.status.idle": "2021-02-05T10:57:26.770029Z",
     "shell.execute_reply": "2021-02-05T10:57:26.769450Z"
    },
    "papermill": {
     "duration": 0.039985,
     "end_time": "2021-02-05T10:57:26.770142",
     "exception": false,
     "start_time": "2021-02-05T10:57:26.730157",
     "status": "completed"
    },
    "tags": []
   },
   "outputs": [
    {
     "data": {
      "text/plain": [
       "(array([[[0.04672897, 0.37299035, 0.56618659, 0.95384615],\n",
       "         [0.04672897, 0.36923901, 0.54132648, 0.89487179],\n",
       "         [0.03738318, 0.36548767, 0.53050179, 0.83589744],\n",
       "         ...,\n",
       "         [0.06542056, 0.25241158, 0.31584258, 0.79230769],\n",
       "         [0.05607477, 0.23901393, 0.31309054, 0.72820513],\n",
       "         [0.06542056, 0.22561629, 0.31107238, 0.66410256]],\n",
       " \n",
       "        [[0.04672897, 0.36923901, 0.54132648, 0.89487179],\n",
       "         [0.03738318, 0.36548767, 0.53050179, 0.83589744],\n",
       "         [0.03738318, 0.36173633, 0.52408036, 0.77692308],\n",
       "         ...,\n",
       "         [0.05607477, 0.23901393, 0.31309054, 0.72820513],\n",
       "         [0.06542056, 0.22561629, 0.31107238, 0.66410256],\n",
       "         [0.06542056, 0.21221865, 0.30923768, 0.6       ]],\n",
       " \n",
       "        [[0.03738318, 0.36548767, 0.53050179, 0.83589744],\n",
       "         [0.03738318, 0.36173633, 0.52408036, 0.77692308],\n",
       "         [0.04672897, 0.35798499, 0.53141914, 0.71794872],\n",
       "         ...,\n",
       "         [0.06542056, 0.22561629, 0.31107238, 0.66410256],\n",
       "         [0.06542056, 0.21221865, 0.30923768, 0.6       ],\n",
       "         [0.13084112, 0.2170418 , 0.3055683 , 0.6       ]],\n",
       " \n",
       "        ...,\n",
       " \n",
       "        [[0.08411215, 0.34297964, 0.50389872, 0.6       ],\n",
       "         [0.09345794, 0.34083601, 0.49821117, 0.6       ],\n",
       "         [0.36448598, 0.34244373, 0.49380791, 0.6       ],\n",
       "         ...,\n",
       "         [0.08411215, 0.17470525, 0.32134667, 0.24615385],\n",
       "         [0.09345794, 0.17524116, 0.31749381, 0.26923077],\n",
       "         [0.09345794, 0.17577706, 0.31400789, 0.29230769]],\n",
       " \n",
       "        [[0.09345794, 0.34083601, 0.49821117, 0.6       ],\n",
       "         [0.36448598, 0.34244373, 0.49380791, 0.6       ],\n",
       "         [0.36448598, 0.34405145, 0.48830383, 0.6       ],\n",
       "         ...,\n",
       "         [0.09345794, 0.17524116, 0.31749381, 0.26923077],\n",
       "         [0.09345794, 0.17577706, 0.31400789, 0.29230769],\n",
       "         [0.1682243 , 0.17631297, 0.31208146, 0.31538462]],\n",
       " \n",
       "        [[0.36448598, 0.34244373, 0.49380791, 0.6       ],\n",
       "         [0.36448598, 0.34405145, 0.48830383, 0.6       ],\n",
       "         [0.35514019, 0.34565916, 0.48261627, 0.6       ],\n",
       "         ...,\n",
       "         [0.09345794, 0.17577706, 0.31400789, 0.29230769],\n",
       "         [0.1682243 , 0.17631297, 0.31208146, 0.31538462],\n",
       "         [0.41121495, 0.17684887, 0.3100633 , 0.33846154]]]),\n",
       " array([0.06542056, 0.13084112, 0.34579439, 0.26168224, 0.24299065,\n",
       "        0.38317757, 0.25233645, 0.27102804, 0.31775701, 0.24299065,\n",
       "        0.51401869, 1.        , 0.69158879, 0.35514019, 0.31775701,\n",
       "        0.30841121, 0.26168224, 0.20560748, 0.10280374, 0.09345794,\n",
       "        0.08411215, 0.09345794, 0.11214953, 0.12149533, 0.09345794,\n",
       "        0.08411215, 0.08411215, 0.09345794, 0.09345794, 0.1682243 ,\n",
       "        0.41121495, 0.18691589]))"
      ]
     },
     "execution_count": 18,
     "metadata": {},
     "output_type": "execute_result"
    }
   ],
   "source": [
    "train_generator[0]"
   ]
  },
  {
   "cell_type": "markdown",
   "metadata": {
    "papermill": {
     "duration": 0.028662,
     "end_time": "2021-02-05T10:57:26.827693",
     "exception": false,
     "start_time": "2021-02-05T10:57:26.799031",
     "status": "completed"
    },
    "tags": []
   },
   "source": [
    "# Model - LSTM neural network"
   ]
  },
  {
   "cell_type": "code",
   "execution_count": 19,
   "metadata": {
    "execution": {
     "iopub.execute_input": "2021-02-05T10:57:26.891103Z",
     "iopub.status.busy": "2021-02-05T10:57:26.890603Z",
     "iopub.status.idle": "2021-02-05T10:57:30.750915Z",
     "shell.execute_reply": "2021-02-05T10:57:30.754290Z"
    },
    "papermill": {
     "duration": 3.898157,
     "end_time": "2021-02-05T10:57:30.754547",
     "exception": false,
     "start_time": "2021-02-05T10:57:26.856390",
     "status": "completed"
    },
    "tags": []
   },
   "outputs": [],
   "source": [
    "model = tf.keras.Sequential()\n",
    "\n",
    "model.add(tf.keras.layers.LSTM(128,input_shape=(win_length,num_features),return_sequences=True))\n",
    "model.add(tf.keras.layers.LeakyReLU(alpha=0.5))\n",
    "\n",
    "model.add(tf.keras.layers.LSTM(128,return_sequences=True))\n",
    "model.add(tf.keras.layers.LeakyReLU(alpha = 0.5))\n",
    "model.add(tf.keras.layers.Dropout(0.3))\n",
    "\n",
    "model.add(tf.keras.layers.LSTM(64,return_sequences=False))\n",
    "model.add(tf.keras.layers.Dropout(0.3))\n",
    "\n",
    "model.add(tf.keras.layers.Dense(1))"
   ]
  },
  {
   "cell_type": "code",
   "execution_count": 20,
   "metadata": {
    "execution": {
     "iopub.execute_input": "2021-02-05T10:57:30.861794Z",
     "iopub.status.busy": "2021-02-05T10:57:30.860957Z",
     "iopub.status.idle": "2021-02-05T10:57:30.866708Z",
     "shell.execute_reply": "2021-02-05T10:57:30.866033Z"
    },
    "papermill": {
     "duration": 0.066781,
     "end_time": "2021-02-05T10:57:30.866876",
     "exception": false,
     "start_time": "2021-02-05T10:57:30.800095",
     "status": "completed"
    },
    "tags": []
   },
   "outputs": [
    {
     "name": "stdout",
     "output_type": "stream",
     "text": [
      "Model: \"sequential\"\n",
      "_________________________________________________________________\n",
      "Layer (type)                 Output Shape              Param #   \n",
      "=================================================================\n",
      "lstm (LSTM)                  (None, 720, 128)          68096     \n",
      "_________________________________________________________________\n",
      "leaky_re_lu (LeakyReLU)      (None, 720, 128)          0         \n",
      "_________________________________________________________________\n",
      "lstm_1 (LSTM)                (None, 720, 128)          131584    \n",
      "_________________________________________________________________\n",
      "leaky_re_lu_1 (LeakyReLU)    (None, 720, 128)          0         \n",
      "_________________________________________________________________\n",
      "dropout (Dropout)            (None, 720, 128)          0         \n",
      "_________________________________________________________________\n",
      "lstm_2 (LSTM)                (None, 64)                49408     \n",
      "_________________________________________________________________\n",
      "dropout_1 (Dropout)          (None, 64)                0         \n",
      "_________________________________________________________________\n",
      "dense (Dense)                (None, 1)                 65        \n",
      "=================================================================\n",
      "Total params: 249,153\n",
      "Trainable params: 249,153\n",
      "Non-trainable params: 0\n",
      "_________________________________________________________________\n"
     ]
    }
   ],
   "source": [
    "model.summary()"
   ]
  },
  {
   "cell_type": "code",
   "execution_count": 21,
   "metadata": {
    "execution": {
     "iopub.execute_input": "2021-02-05T10:57:30.970006Z",
     "iopub.status.busy": "2021-02-05T10:57:30.969187Z",
     "iopub.status.idle": "2021-02-05T10:57:30.971330Z",
     "shell.execute_reply": "2021-02-05T10:57:30.970696Z"
    },
    "papermill": {
     "duration": 0.056504,
     "end_time": "2021-02-05T10:57:30.971481",
     "exception": false,
     "start_time": "2021-02-05T10:57:30.914977",
     "status": "completed"
    },
    "tags": []
   },
   "outputs": [],
   "source": [
    "early_stopping = tf.keras.callbacks.EarlyStopping(monitor='val_loss',patience=2,mode='min')"
   ]
  },
  {
   "cell_type": "code",
   "execution_count": 22,
   "metadata": {
    "execution": {
     "iopub.execute_input": "2021-02-05T10:57:31.079002Z",
     "iopub.status.busy": "2021-02-05T10:57:31.078272Z",
     "iopub.status.idle": "2021-02-05T10:57:31.098515Z",
     "shell.execute_reply": "2021-02-05T10:57:31.099464Z"
    },
    "papermill": {
     "duration": 0.080237,
     "end_time": "2021-02-05T10:57:31.099628",
     "exception": false,
     "start_time": "2021-02-05T10:57:31.019391",
     "status": "completed"
    },
    "tags": []
   },
   "outputs": [],
   "source": [
    "model.compile(\n",
    "    loss=tf.losses.MeanSquaredError(),\n",
    "    optimizer=tf.optimizers.Adam(),\n",
    "    metrics=[tf.metrics.MeanAbsoluteError()]\n",
    ")"
   ]
  },
  {
   "cell_type": "code",
   "execution_count": 23,
   "metadata": {
    "execution": {
     "iopub.execute_input": "2021-02-05T10:57:31.202073Z",
     "iopub.status.busy": "2021-02-05T10:57:31.201354Z",
     "iopub.status.idle": "2021-02-05T11:03:55.344443Z",
     "shell.execute_reply": "2021-02-05T11:03:55.343978Z"
    },
    "papermill": {
     "duration": 384.196629,
     "end_time": "2021-02-05T11:03:55.344580",
     "exception": false,
     "start_time": "2021-02-05T10:57:31.147951",
     "status": "completed"
    },
    "tags": []
   },
   "outputs": [
    {
     "name": "stderr",
     "output_type": "stream",
     "text": [
      "/opt/conda/lib/python3.7/site-packages/tensorflow/python/keras/engine/training.py:1844: UserWarning: `Model.fit_generator` is deprecated and will be removed in a future version. Please use `Model.fit`, which supports generators.\n",
      "  warnings.warn('`Model.fit_generator` is deprecated and '\n"
     ]
    },
    {
     "name": "stdout",
     "output_type": "stream",
     "text": [
      "Epoch 1/50\n",
      "471/471 [==============================] - 54s 102ms/step - loss: 0.0117 - mean_absolute_error: 0.0624 - val_loss: 0.0057 - val_mean_absolute_error: 0.0465\n",
      "Epoch 2/50\n",
      "471/471 [==============================] - 47s 99ms/step - loss: 0.0086 - mean_absolute_error: 0.0500 - val_loss: 0.0045 - val_mean_absolute_error: 0.0371\n",
      "Epoch 3/50\n",
      "471/471 [==============================] - 47s 100ms/step - loss: 0.0062 - mean_absolute_error: 0.0409 - val_loss: 0.0034 - val_mean_absolute_error: 0.0301\n",
      "Epoch 4/50\n",
      "471/471 [==============================] - 47s 99ms/step - loss: 0.0049 - mean_absolute_error: 0.0353 - val_loss: 0.0032 - val_mean_absolute_error: 0.0264\n",
      "Epoch 5/50\n",
      "471/471 [==============================] - 47s 99ms/step - loss: 0.0048 - mean_absolute_error: 0.0341 - val_loss: 0.0032 - val_mean_absolute_error: 0.0281\n",
      "Epoch 6/50\n",
      "471/471 [==============================] - 47s 100ms/step - loss: 0.0047 - mean_absolute_error: 0.0337 - val_loss: 0.0032 - val_mean_absolute_error: 0.0265\n",
      "Epoch 7/50\n",
      "471/471 [==============================] - 47s 100ms/step - loss: 0.0046 - mean_absolute_error: 0.0331 - val_loss: 0.0032 - val_mean_absolute_error: 0.0260\n",
      "Epoch 8/50\n",
      "471/471 [==============================] - 48s 102ms/step - loss: 0.0045 - mean_absolute_error: 0.0328 - val_loss: 0.0032 - val_mean_absolute_error: 0.0276\n"
     ]
    }
   ],
   "source": [
    "history = model.fit_generator(\n",
    "    train_generator,\n",
    "    epochs=50,\n",
    "    validation_data=test_generator,\n",
    "    shuffle=False,\n",
    "    callbacks = [early_stopping]\n",
    ")"
   ]
  },
  {
   "cell_type": "code",
   "execution_count": 24,
   "metadata": {
    "execution": {
     "iopub.execute_input": "2021-02-05T11:03:57.586636Z",
     "iopub.status.busy": "2021-02-05T11:03:57.585724Z",
     "iopub.status.idle": "2021-02-05T11:04:01.125522Z",
     "shell.execute_reply": "2021-02-05T11:04:01.124679Z"
    },
    "papermill": {
     "duration": 4.533896,
     "end_time": "2021-02-05T11:04:01.125648",
     "exception": false,
     "start_time": "2021-02-05T11:03:56.591752",
     "status": "completed"
    },
    "tags": []
   },
   "outputs": [
    {
     "name": "stderr",
     "output_type": "stream",
     "text": [
      "/opt/conda/lib/python3.7/site-packages/tensorflow/python/keras/engine/training.py:1877: UserWarning: `Model.evaluate_generator` is deprecated and will be removed in a future version. Please use `Model.evaluate`, which supports generators.\n",
      "  warnings.warn('`Model.evaluate_generator` is deprecated and '\n"
     ]
    },
    {
     "data": {
      "text/plain": [
       "[0.0031872170511633158, 0.027589520439505577]"
      ]
     },
     "execution_count": 24,
     "metadata": {},
     "output_type": "execute_result"
    }
   ],
   "source": [
    "model.evaluate_generator(test_generator,verbose=0)"
   ]
  },
  {
   "cell_type": "code",
   "execution_count": 25,
   "metadata": {
    "execution": {
     "iopub.execute_input": "2021-02-05T11:04:03.138672Z",
     "iopub.status.busy": "2021-02-05T11:04:03.137866Z",
     "iopub.status.idle": "2021-02-05T11:04:07.386566Z",
     "shell.execute_reply": "2021-02-05T11:04:07.385379Z"
    },
    "papermill": {
     "duration": 5.276208,
     "end_time": "2021-02-05T11:04:07.386726",
     "exception": false,
     "start_time": "2021-02-05T11:04:02.110518",
     "status": "completed"
    },
    "tags": []
   },
   "outputs": [
    {
     "name": "stderr",
     "output_type": "stream",
     "text": [
      "/opt/conda/lib/python3.7/site-packages/tensorflow/python/keras/engine/training.py:1905: UserWarning: `Model.predict_generator` is deprecated and will be removed in a future version. Please use `Model.predict`, which supports generators.\n",
      "  warnings.warn('`Model.predict_generator` is deprecated and '\n"
     ]
    }
   ],
   "source": [
    "predictions = model.predict_generator(test_generator)"
   ]
  },
  {
   "cell_type": "code",
   "execution_count": 26,
   "metadata": {
    "execution": {
     "iopub.execute_input": "2021-02-05T11:04:09.394755Z",
     "iopub.status.busy": "2021-02-05T11:04:09.394033Z",
     "iopub.status.idle": "2021-02-05T11:04:09.396730Z",
     "shell.execute_reply": "2021-02-05T11:04:09.397138Z"
    },
    "papermill": {
     "duration": 0.994286,
     "end_time": "2021-02-05T11:04:09.397269",
     "exception": false,
     "start_time": "2021-02-05T11:04:08.402983",
     "status": "completed"
    },
    "tags": []
   },
   "outputs": [
    {
     "data": {
      "text/plain": [
       "(3227, 1)"
      ]
     },
     "execution_count": 26,
     "metadata": {},
     "output_type": "execute_result"
    }
   ],
   "source": [
    "predictions.shape"
   ]
  },
  {
   "cell_type": "code",
   "execution_count": 27,
   "metadata": {
    "execution": {
     "iopub.execute_input": "2021-02-05T11:04:11.379243Z",
     "iopub.status.busy": "2021-02-05T11:04:11.378487Z",
     "iopub.status.idle": "2021-02-05T11:04:11.381694Z",
     "shell.execute_reply": "2021-02-05T11:04:11.382073Z"
    },
    "papermill": {
     "duration": 0.994962,
     "end_time": "2021-02-05T11:04:11.382211",
     "exception": false,
     "start_time": "2021-02-05T11:04:10.387249",
     "status": "completed"
    },
    "tags": []
   },
   "outputs": [
    {
     "data": {
      "text/plain": [
       "array([[0.07288666],\n",
       "       [0.09226146],\n",
       "       [0.1168278 ],\n",
       "       ...,\n",
       "       [0.08678348],\n",
       "       [0.25096107],\n",
       "       [0.27163744]], dtype=float32)"
      ]
     },
     "execution_count": 27,
     "metadata": {},
     "output_type": "execute_result"
    }
   ],
   "source": [
    "predictions"
   ]
  },
  {
   "cell_type": "code",
   "execution_count": 28,
   "metadata": {
    "execution": {
     "iopub.execute_input": "2021-02-05T11:04:13.398434Z",
     "iopub.status.busy": "2021-02-05T11:04:13.397678Z",
     "iopub.status.idle": "2021-02-05T11:04:13.401281Z",
     "shell.execute_reply": "2021-02-05T11:04:13.400880Z"
    },
    "papermill": {
     "duration": 1.024594,
     "end_time": "2021-02-05T11:04:13.401403",
     "exception": false,
     "start_time": "2021-02-05T11:04:12.376809",
     "status": "completed"
    },
    "tags": []
   },
   "outputs": [
    {
     "data": {
      "text/plain": [
       "array([0.3364486 , 0.54205607, 0.28971963, ..., 0.24299065, 0.38317757,\n",
       "       0.39252336])"
      ]
     },
     "execution_count": 28,
     "metadata": {},
     "output_type": "execute_result"
    }
   ],
   "source": [
    "ytest"
   ]
  },
  {
   "cell_type": "code",
   "execution_count": 29,
   "metadata": {
    "execution": {
     "iopub.execute_input": "2021-02-05T11:04:15.496222Z",
     "iopub.status.busy": "2021-02-05T11:04:15.495381Z",
     "iopub.status.idle": "2021-02-05T11:04:15.498736Z",
     "shell.execute_reply": "2021-02-05T11:04:15.499185Z"
    },
    "papermill": {
     "duration": 1.006933,
     "end_time": "2021-02-05T11:04:15.499319",
     "exception": false,
     "start_time": "2021-02-05T11:04:14.492386",
     "status": "completed"
    },
    "tags": []
   },
   "outputs": [
    {
     "data": {
      "text/plain": [
       "array([[0.3364486 , 0.34297964, 0.30923768, 0.6       ],\n",
       "       [0.54205607, 0.34726688, 0.3055683 , 0.6       ],\n",
       "       [0.28971963, 0.35155413, 0.30455921, 0.6       ],\n",
       "       ...,\n",
       "       [0.24299065, 0.88317256, 0.53866618, 0.37435897],\n",
       "       [0.38317757, 0.87888532, 0.54949087, 0.38717949],\n",
       "       [0.39252336, 0.87459807, 0.53875791, 0.4       ]])"
      ]
     },
     "execution_count": 29,
     "metadata": {},
     "output_type": "execute_result"
    }
   ],
   "source": [
    "xtest"
   ]
  },
  {
   "cell_type": "code",
   "execution_count": 30,
   "metadata": {
    "execution": {
     "iopub.execute_input": "2021-02-05T11:04:18.253523Z",
     "iopub.status.busy": "2021-02-05T11:04:18.252800Z",
     "iopub.status.idle": "2021-02-05T11:04:18.256495Z",
     "shell.execute_reply": "2021-02-05T11:04:18.255900Z"
    },
    "papermill": {
     "duration": 1.605147,
     "end_time": "2021-02-05T11:04:18.256624",
     "exception": false,
     "start_time": "2021-02-05T11:04:16.651477",
     "status": "completed"
    },
    "tags": []
   },
   "outputs": [
    {
     "data": {
      "text/plain": [
       "(3947, 4)"
      ]
     },
     "execution_count": 30,
     "metadata": {},
     "output_type": "execute_result"
    }
   ],
   "source": [
    "xtest.shape"
   ]
  },
  {
   "cell_type": "code",
   "execution_count": 31,
   "metadata": {
    "execution": {
     "iopub.execute_input": "2021-02-05T11:04:20.304008Z",
     "iopub.status.busy": "2021-02-05T11:04:20.303167Z",
     "iopub.status.idle": "2021-02-05T11:04:20.308590Z",
     "shell.execute_reply": "2021-02-05T11:04:20.308192Z"
    },
    "papermill": {
     "duration": 1.0501,
     "end_time": "2021-02-05T11:04:20.308720",
     "exception": false,
     "start_time": "2021-02-05T11:04:19.258620",
     "status": "completed"
    },
    "tags": []
   },
   "outputs": [
    {
     "data": {
      "text/plain": [
       "array([[0.45337621, 0.20851298, 0.6       ],\n",
       "       [0.47106109, 0.18282726, 0.6       ],\n",
       "       [0.48874598, 0.18466196, 0.6       ],\n",
       "       ...,\n",
       "       [0.88317256, 0.53866618, 0.37435897],\n",
       "       [0.87888532, 0.54949087, 0.38717949],\n",
       "       [0.87459807, 0.53875791, 0.4       ]])"
      ]
     },
     "execution_count": 31,
     "metadata": {},
     "output_type": "execute_result"
    }
   ],
   "source": [
    "xtest[:,1:][win_length:]"
   ]
  },
  {
   "cell_type": "code",
   "execution_count": 32,
   "metadata": {
    "execution": {
     "iopub.execute_input": "2021-02-05T11:04:22.342640Z",
     "iopub.status.busy": "2021-02-05T11:04:22.341868Z",
     "iopub.status.idle": "2021-02-05T11:04:22.344675Z",
     "shell.execute_reply": "2021-02-05T11:04:22.344254Z"
    },
    "papermill": {
     "duration": 1.02874,
     "end_time": "2021-02-05T11:04:22.344794",
     "exception": false,
     "start_time": "2021-02-05T11:04:21.316054",
     "status": "completed"
    },
    "tags": []
   },
   "outputs": [],
   "source": [
    "df_pred=pd.concat([pd.DataFrame(predictions), pd.DataFrame(xtest[:,1:][win_length:])],axis=1)"
   ]
  },
  {
   "cell_type": "code",
   "execution_count": 33,
   "metadata": {
    "execution": {
     "iopub.execute_input": "2021-02-05T11:04:24.381864Z",
     "iopub.status.busy": "2021-02-05T11:04:24.381123Z",
     "iopub.status.idle": "2021-02-05T11:04:24.384141Z",
     "shell.execute_reply": "2021-02-05T11:04:24.384647Z"
    },
    "papermill": {
     "duration": 1.035661,
     "end_time": "2021-02-05T11:04:24.384799",
     "exception": false,
     "start_time": "2021-02-05T11:04:23.349138",
     "status": "completed"
    },
    "tags": []
   },
   "outputs": [
    {
     "data": {
      "text/html": [
       "<div>\n",
       "<style scoped>\n",
       "    .dataframe tbody tr th:only-of-type {\n",
       "        vertical-align: middle;\n",
       "    }\n",
       "\n",
       "    .dataframe tbody tr th {\n",
       "        vertical-align: top;\n",
       "    }\n",
       "\n",
       "    .dataframe thead th {\n",
       "        text-align: right;\n",
       "    }\n",
       "</style>\n",
       "<table border=\"1\" class=\"dataframe\">\n",
       "  <thead>\n",
       "    <tr style=\"text-align: right;\">\n",
       "      <th></th>\n",
       "      <th>0</th>\n",
       "      <th>0</th>\n",
       "      <th>1</th>\n",
       "      <th>2</th>\n",
       "    </tr>\n",
       "  </thead>\n",
       "  <tbody>\n",
       "    <tr>\n",
       "      <th>0</th>\n",
       "      <td>0.072887</td>\n",
       "      <td>0.453376</td>\n",
       "      <td>0.208513</td>\n",
       "      <td>0.600000</td>\n",
       "    </tr>\n",
       "    <tr>\n",
       "      <th>1</th>\n",
       "      <td>0.092261</td>\n",
       "      <td>0.471061</td>\n",
       "      <td>0.182827</td>\n",
       "      <td>0.600000</td>\n",
       "    </tr>\n",
       "    <tr>\n",
       "      <th>2</th>\n",
       "      <td>0.116828</td>\n",
       "      <td>0.488746</td>\n",
       "      <td>0.184662</td>\n",
       "      <td>0.600000</td>\n",
       "    </tr>\n",
       "    <tr>\n",
       "      <th>3</th>\n",
       "      <td>0.337485</td>\n",
       "      <td>0.506431</td>\n",
       "      <td>0.193996</td>\n",
       "      <td>0.600000</td>\n",
       "    </tr>\n",
       "    <tr>\n",
       "      <th>4</th>\n",
       "      <td>0.151413</td>\n",
       "      <td>0.524116</td>\n",
       "      <td>0.181818</td>\n",
       "      <td>0.600000</td>\n",
       "    </tr>\n",
       "    <tr>\n",
       "      <th>...</th>\n",
       "      <td>...</td>\n",
       "      <td>...</td>\n",
       "      <td>...</td>\n",
       "      <td>...</td>\n",
       "    </tr>\n",
       "    <tr>\n",
       "      <th>3222</th>\n",
       "      <td>0.085135</td>\n",
       "      <td>0.891747</td>\n",
       "      <td>0.537657</td>\n",
       "      <td>0.348718</td>\n",
       "    </tr>\n",
       "    <tr>\n",
       "      <th>3223</th>\n",
       "      <td>0.098966</td>\n",
       "      <td>0.887460</td>\n",
       "      <td>0.536006</td>\n",
       "      <td>0.361538</td>\n",
       "    </tr>\n",
       "    <tr>\n",
       "      <th>3224</th>\n",
       "      <td>0.086783</td>\n",
       "      <td>0.883173</td>\n",
       "      <td>0.538666</td>\n",
       "      <td>0.374359</td>\n",
       "    </tr>\n",
       "    <tr>\n",
       "      <th>3225</th>\n",
       "      <td>0.250961</td>\n",
       "      <td>0.878885</td>\n",
       "      <td>0.549491</td>\n",
       "      <td>0.387179</td>\n",
       "    </tr>\n",
       "    <tr>\n",
       "      <th>3226</th>\n",
       "      <td>0.271637</td>\n",
       "      <td>0.874598</td>\n",
       "      <td>0.538758</td>\n",
       "      <td>0.400000</td>\n",
       "    </tr>\n",
       "  </tbody>\n",
       "</table>\n",
       "<p>3227 rows × 4 columns</p>\n",
       "</div>"
      ],
      "text/plain": [
       "             0         0         1         2\n",
       "0     0.072887  0.453376  0.208513  0.600000\n",
       "1     0.092261  0.471061  0.182827  0.600000\n",
       "2     0.116828  0.488746  0.184662  0.600000\n",
       "3     0.337485  0.506431  0.193996  0.600000\n",
       "4     0.151413  0.524116  0.181818  0.600000\n",
       "...        ...       ...       ...       ...\n",
       "3222  0.085135  0.891747  0.537657  0.348718\n",
       "3223  0.098966  0.887460  0.536006  0.361538\n",
       "3224  0.086783  0.883173  0.538666  0.374359\n",
       "3225  0.250961  0.878885  0.549491  0.387179\n",
       "3226  0.271637  0.874598  0.538758  0.400000\n",
       "\n",
       "[3227 rows x 4 columns]"
      ]
     },
     "execution_count": 33,
     "metadata": {},
     "output_type": "execute_result"
    }
   ],
   "source": [
    "df_pred"
   ]
  },
  {
   "cell_type": "code",
   "execution_count": 34,
   "metadata": {
    "execution": {
     "iopub.execute_input": "2021-02-05T11:04:26.407559Z",
     "iopub.status.busy": "2021-02-05T11:04:26.407001Z",
     "iopub.status.idle": "2021-02-05T11:04:26.409693Z",
     "shell.execute_reply": "2021-02-05T11:04:26.410180Z"
    },
    "papermill": {
     "duration": 1.033086,
     "end_time": "2021-02-05T11:04:26.410308",
     "exception": false,
     "start_time": "2021-02-05T11:04:25.377222",
     "status": "completed"
    },
    "tags": []
   },
   "outputs": [],
   "source": [
    "rev_trans=scaler.inverse_transform(df_pred)"
   ]
  },
  {
   "cell_type": "code",
   "execution_count": 35,
   "metadata": {
    "execution": {
     "iopub.execute_input": "2021-02-05T11:04:28.408113Z",
     "iopub.status.busy": "2021-02-05T11:04:28.407436Z",
     "iopub.status.idle": "2021-02-05T11:04:28.410494Z",
     "shell.execute_reply": "2021-02-05T11:04:28.410953Z"
    },
    "papermill": {
     "duration": 1.011961,
     "end_time": "2021-02-05T11:04:28.411088",
     "exception": false,
     "start_time": "2021-02-05T11:04:27.399127",
     "status": "completed"
    },
    "tags": []
   },
   "outputs": [
    {
     "data": {
      "text/plain": [
       "array([[ 87.98872694,   9.1       ,  34.6       ,  40.        ],\n",
       "       [108.71976584,   9.65      ,  33.66666667,  40.        ],\n",
       "       [135.00574693,  10.2       ,  33.73333333,  40.        ],\n",
       "       ...,\n",
       "       [102.85832748,  22.46666667,  46.59666667,  25.33333333],\n",
       "       [278.52833986,  22.33333333,  46.99      ,  26.16666667],\n",
       "       [300.65206051,  22.2       ,  46.6       ,  27.        ]])"
      ]
     },
     "execution_count": 35,
     "metadata": {},
     "output_type": "execute_result"
    }
   ],
   "source": [
    "rev_trans"
   ]
  },
  {
   "cell_type": "code",
   "execution_count": 36,
   "metadata": {
    "execution": {
     "iopub.execute_input": "2021-02-05T11:04:30.660898Z",
     "iopub.status.busy": "2021-02-05T11:04:30.659218Z",
     "iopub.status.idle": "2021-02-05T11:04:30.661518Z",
     "shell.execute_reply": "2021-02-05T11:04:30.662172Z"
    },
    "papermill": {
     "duration": 0.994553,
     "end_time": "2021-02-05T11:04:30.662314",
     "exception": false,
     "start_time": "2021-02-05T11:04:29.667761",
     "status": "completed"
    },
    "tags": []
   },
   "outputs": [],
   "source": [
    "df_final=df_input[predictions.shape[0]*-1:]"
   ]
  },
  {
   "cell_type": "code",
   "execution_count": 37,
   "metadata": {
    "execution": {
     "iopub.execute_input": "2021-02-05T11:04:32.703029Z",
     "iopub.status.busy": "2021-02-05T11:04:32.702259Z",
     "iopub.status.idle": "2021-02-05T11:04:32.705476Z",
     "shell.execute_reply": "2021-02-05T11:04:32.705935Z"
    },
    "papermill": {
     "duration": 1.048196,
     "end_time": "2021-02-05T11:04:32.706068",
     "exception": false,
     "start_time": "2021-02-05T11:04:31.657872",
     "status": "completed"
    },
    "tags": []
   },
   "outputs": [
    {
     "data": {
      "text/plain": [
       "Appliances    3227\n",
       "T_out         3227\n",
       "RH_1          3227\n",
       "Visibility    3227\n",
       "dtype: int64"
      ]
     },
     "execution_count": 37,
     "metadata": {},
     "output_type": "execute_result"
    }
   ],
   "source": [
    "df_final.count()"
   ]
  },
  {
   "cell_type": "code",
   "execution_count": 38,
   "metadata": {
    "execution": {
     "iopub.execute_input": "2021-02-05T11:04:34.730809Z",
     "iopub.status.busy": "2021-02-05T11:04:34.729928Z",
     "iopub.status.idle": "2021-02-05T11:04:34.732127Z",
     "shell.execute_reply": "2021-02-05T11:04:34.732555Z"
    },
    "papermill": {
     "duration": 1.016901,
     "end_time": "2021-02-05T11:04:34.732723",
     "exception": false,
     "start_time": "2021-02-05T11:04:33.715822",
     "status": "completed"
    },
    "tags": []
   },
   "outputs": [],
   "source": [
    "df_final=df_input[predictions.shape[0]*-1:]"
   ]
  },
  {
   "cell_type": "code",
   "execution_count": 39,
   "metadata": {
    "execution": {
     "iopub.execute_input": "2021-02-05T11:04:36.754632Z",
     "iopub.status.busy": "2021-02-05T11:04:36.753600Z",
     "iopub.status.idle": "2021-02-05T11:04:36.758136Z",
     "shell.execute_reply": "2021-02-05T11:04:36.757699Z"
    },
    "papermill": {
     "duration": 1.023779,
     "end_time": "2021-02-05T11:04:36.758261",
     "exception": false,
     "start_time": "2021-02-05T11:04:35.734482",
     "status": "completed"
    },
    "tags": []
   },
   "outputs": [
    {
     "data": {
      "text/plain": [
       "Appliances    3227\n",
       "T_out         3227\n",
       "RH_1          3227\n",
       "Visibility    3227\n",
       "dtype: int64"
      ]
     },
     "execution_count": 39,
     "metadata": {},
     "output_type": "execute_result"
    }
   ],
   "source": [
    "df_final.count()"
   ]
  },
  {
   "cell_type": "code",
   "execution_count": 40,
   "metadata": {
    "execution": {
     "iopub.execute_input": "2021-02-05T11:04:38.843647Z",
     "iopub.status.busy": "2021-02-05T11:04:38.842921Z",
     "iopub.status.idle": "2021-02-05T11:04:38.846414Z",
     "shell.execute_reply": "2021-02-05T11:04:38.846990Z"
    },
    "papermill": {
     "duration": 1.057356,
     "end_time": "2021-02-05T11:04:38.847162",
     "exception": false,
     "start_time": "2021-02-05T11:04:37.789806",
     "status": "completed"
    },
    "tags": []
   },
   "outputs": [
    {
     "name": "stderr",
     "output_type": "stream",
     "text": [
      "/opt/conda/lib/python3.7/site-packages/ipykernel_launcher.py:1: SettingWithCopyWarning: \n",
      "A value is trying to be set on a copy of a slice from a DataFrame.\n",
      "Try using .loc[row_indexer,col_indexer] = value instead\n",
      "\n",
      "See the caveats in the documentation: https://pandas.pydata.org/pandas-docs/stable/user_guide/indexing.html#returning-a-view-versus-a-copy\n",
      "  \"\"\"Entry point for launching an IPython kernel.\n"
     ]
    }
   ],
   "source": [
    "df_final['App_Pred']=rev_trans[:,0]"
   ]
  },
  {
   "cell_type": "code",
   "execution_count": 41,
   "metadata": {
    "execution": {
     "iopub.execute_input": "2021-02-05T11:04:41.112541Z",
     "iopub.status.busy": "2021-02-05T11:04:41.111631Z",
     "iopub.status.idle": "2021-02-05T11:04:41.116054Z",
     "shell.execute_reply": "2021-02-05T11:04:41.115621Z"
    },
    "papermill": {
     "duration": 1.093514,
     "end_time": "2021-02-05T11:04:41.116224",
     "exception": false,
     "start_time": "2021-02-05T11:04:40.022710",
     "status": "completed"
    },
    "tags": []
   },
   "outputs": [
    {
     "data": {
      "text/html": [
       "<div>\n",
       "<style scoped>\n",
       "    .dataframe tbody tr th:only-of-type {\n",
       "        vertical-align: middle;\n",
       "    }\n",
       "\n",
       "    .dataframe tbody tr th {\n",
       "        vertical-align: top;\n",
       "    }\n",
       "\n",
       "    .dataframe thead th {\n",
       "        text-align: right;\n",
       "    }\n",
       "</style>\n",
       "<table border=\"1\" class=\"dataframe\">\n",
       "  <thead>\n",
       "    <tr style=\"text-align: right;\">\n",
       "      <th></th>\n",
       "      <th>Appliances</th>\n",
       "      <th>T_out</th>\n",
       "      <th>RH_1</th>\n",
       "      <th>Visibility</th>\n",
       "      <th>App_Pred</th>\n",
       "    </tr>\n",
       "  </thead>\n",
       "  <tbody>\n",
       "    <tr>\n",
       "      <th>16508</th>\n",
       "      <td>90</td>\n",
       "      <td>9.100000</td>\n",
       "      <td>34.600000</td>\n",
       "      <td>40.000000</td>\n",
       "      <td>87.988727</td>\n",
       "    </tr>\n",
       "    <tr>\n",
       "      <th>16509</th>\n",
       "      <td>120</td>\n",
       "      <td>9.650000</td>\n",
       "      <td>33.666667</td>\n",
       "      <td>40.000000</td>\n",
       "      <td>108.719766</td>\n",
       "    </tr>\n",
       "    <tr>\n",
       "      <th>16510</th>\n",
       "      <td>390</td>\n",
       "      <td>10.200000</td>\n",
       "      <td>33.733333</td>\n",
       "      <td>40.000000</td>\n",
       "      <td>135.005747</td>\n",
       "    </tr>\n",
       "    <tr>\n",
       "      <th>16511</th>\n",
       "      <td>240</td>\n",
       "      <td>10.750000</td>\n",
       "      <td>34.072500</td>\n",
       "      <td>40.000000</td>\n",
       "      <td>371.108871</td>\n",
       "    </tr>\n",
       "    <tr>\n",
       "      <th>16512</th>\n",
       "      <td>120</td>\n",
       "      <td>11.300000</td>\n",
       "      <td>33.630000</td>\n",
       "      <td>40.000000</td>\n",
       "      <td>172.012334</td>\n",
       "    </tr>\n",
       "    <tr>\n",
       "      <th>...</th>\n",
       "      <td>...</td>\n",
       "      <td>...</td>\n",
       "      <td>...</td>\n",
       "      <td>...</td>\n",
       "      <td>...</td>\n",
       "    </tr>\n",
       "    <tr>\n",
       "      <th>19730</th>\n",
       "      <td>100</td>\n",
       "      <td>22.733333</td>\n",
       "      <td>46.560000</td>\n",
       "      <td>23.666667</td>\n",
       "      <td>101.094623</td>\n",
       "    </tr>\n",
       "    <tr>\n",
       "      <th>19731</th>\n",
       "      <td>90</td>\n",
       "      <td>22.600000</td>\n",
       "      <td>46.500000</td>\n",
       "      <td>24.500000</td>\n",
       "      <td>115.894125</td>\n",
       "    </tr>\n",
       "    <tr>\n",
       "      <th>19732</th>\n",
       "      <td>270</td>\n",
       "      <td>22.466667</td>\n",
       "      <td>46.596667</td>\n",
       "      <td>25.333333</td>\n",
       "      <td>102.858327</td>\n",
       "    </tr>\n",
       "    <tr>\n",
       "      <th>19733</th>\n",
       "      <td>420</td>\n",
       "      <td>22.333333</td>\n",
       "      <td>46.990000</td>\n",
       "      <td>26.166667</td>\n",
       "      <td>278.528340</td>\n",
       "    </tr>\n",
       "    <tr>\n",
       "      <th>19734</th>\n",
       "      <td>430</td>\n",
       "      <td>22.200000</td>\n",
       "      <td>46.600000</td>\n",
       "      <td>27.000000</td>\n",
       "      <td>300.652061</td>\n",
       "    </tr>\n",
       "  </tbody>\n",
       "</table>\n",
       "<p>3227 rows × 5 columns</p>\n",
       "</div>"
      ],
      "text/plain": [
       "       Appliances      T_out       RH_1  Visibility    App_Pred\n",
       "16508          90   9.100000  34.600000   40.000000   87.988727\n",
       "16509         120   9.650000  33.666667   40.000000  108.719766\n",
       "16510         390  10.200000  33.733333   40.000000  135.005747\n",
       "16511         240  10.750000  34.072500   40.000000  371.108871\n",
       "16512         120  11.300000  33.630000   40.000000  172.012334\n",
       "...           ...        ...        ...         ...         ...\n",
       "19730         100  22.733333  46.560000   23.666667  101.094623\n",
       "19731          90  22.600000  46.500000   24.500000  115.894125\n",
       "19732         270  22.466667  46.596667   25.333333  102.858327\n",
       "19733         420  22.333333  46.990000   26.166667  278.528340\n",
       "19734         430  22.200000  46.600000   27.000000  300.652061\n",
       "\n",
       "[3227 rows x 5 columns]"
      ]
     },
     "execution_count": 41,
     "metadata": {},
     "output_type": "execute_result"
    }
   ],
   "source": [
    "df_final"
   ]
  },
  {
   "cell_type": "code",
   "execution_count": 42,
   "metadata": {
    "execution": {
     "iopub.execute_input": "2021-02-05T11:04:43.124077Z",
     "iopub.status.busy": "2021-02-05T11:04:43.123278Z",
     "iopub.status.idle": "2021-02-05T11:04:43.300175Z",
     "shell.execute_reply": "2021-02-05T11:04:43.300574Z"
    },
    "papermill": {
     "duration": 1.171568,
     "end_time": "2021-02-05T11:04:43.300732",
     "exception": false,
     "start_time": "2021-02-05T11:04:42.129164",
     "status": "completed"
    },
    "tags": []
   },
   "outputs": [
    {
     "data": {
      "text/plain": [
       "<AxesSubplot:>"
      ]
     },
     "execution_count": 42,
     "metadata": {},
     "output_type": "execute_result"
    },
    {
     "data": {
      "image/png": "[encoded data removed]",
      "text/plain": [
       "<Figure size 720x576 with 1 Axes>"
      ]
     },
     "metadata": {
      "needs_background": "light"
     },
     "output_type": "display_data"
    }
   ],
   "source": [
    "df_final[['Appliances','App_Pred']].plot()"
   ]
  },
  {
   "cell_type": "code",
   "execution_count": null,
   "metadata": {
    "papermill": {
     "duration": 1.026894,
     "end_time": "2021-02-05T11:04:45.323443",
     "exception": false,
     "start_time": "2021-02-05T11:04:44.296549",
     "status": "completed"
    },
    "tags": []
   },
   "outputs": [],
   "source": []
  }
 ],
 "metadata": {
  "kernelspec": {
   "display_name": "Python 3",
   "language": "python",
   "name": "python3"
  },
  "language_info": {
   "codemirror_mode": {
    "name": "ipython",
    "version": 3
   },
   "file_extension": ".py",
   "mimetype": "text/x-python",
   "name": "python",
   "nbconvert_exporter": "python",
   "pygments_lexer": "ipython3",
   "version": "3.7.9"
  },
  "papermill": {
   "default_parameters": {},
   "duration": 459.451065,
   "end_time": "2021-02-05T11:04:49.188793",
   "environment_variables": {},
   "exception": null,
   "input_path": "__notebook__.ipynb",
   "output_path": "__notebook__.ipynb",
   "parameters": {},
   "start_time": "2021-02-05T10:57:09.737728",
   "version": "2.2.2"
  }
 },
 "nbformat": 4,
 "nbformat_minor": 4
}
